{
 "cells": [
  {
   "cell_type": "markdown",
   "id": "11049280-7c6a-4ab5-b474-31b6f12d398d",
   "metadata": {},
   "source": [
    "##### 5.EDA - Visual Insights"
   ]
  },
  {
   "cell_type": "code",
   "execution_count": null,
   "id": "f9a73a0a-c923-465f-8e25-7ac50403fb4a",
   "metadata": {},
   "outputs": [],
   "source": [
    "# Churn Count Plot\n",
    "sns.countplot(data=customer_churn, x='Churn')\n",
    "plt.title(\"Customer Churn Count\")\n",
    "plt.show()"
   ]
  },
  {
   "cell_type": "code",
   "execution_count": null,
   "id": "17d0ab57-21d7-4e70-8d69-cf3ad85cf624",
   "metadata": {},
   "outputs": [],
   "source": [
    "# Gender vs Churn\n",
    "sns.countplot(data=customer_churn, x='Gender', hue='Churn')\n",
    "plt.title(\"Gender vs Churn\")\n",
    "plt.show()"
   ]
  },
  {
   "cell_type": "code",
   "execution_count": null,
   "id": "8b5ce33d-b956-4bac-8d09-f6ec89092361",
   "metadata": {},
   "outputs": [],
   "source": [
    "# Contract Type vs Churn\n",
    "sns.countplot(data=customer_churn, x='ContractType', hue='Churn')\n",
    "plt.title(\"Contract Type vs Churn\")\n",
    "plt.show()"
   ]
  },
  {
   "cell_type": "code",
   "execution_count": null,
   "id": "b1efa941-b10e-4eb0-9cf1-0ec0432d8534",
   "metadata": {},
   "outputs": [],
   "source": [
    "# Internet Service vs Churn\n",
    "sns.countplot(data=customer_churn, x='InternetService', hue='Churn')\n",
    "plt.title(\"Internet Service vs Churn\")\n",
    "plt.show()"
   ]
  },
  {
   "cell_type": "code",
   "execution_count": null,
   "id": "92948e2a-de5a-411f-bff6-8fa89ec5feb3",
   "metadata": {},
   "outputs": [],
   "source": [
    "# Boxplot of Monthly Charges vs Churn\n",
    "sns.boxplot(data=customer_churn, x='Churn', y='MonthlyCharges')\n",
    "plt.title(\"Monthly Charges Distribution by Churn\")\n",
    "plt.show()"
   ]
  },
  {
   "cell_type": "code",
   "execution_count": null,
   "id": "c8370195-aad3-4799-9dac-9130ecfa374e",
   "metadata": {},
   "outputs": [],
   "source": [
    "# Correlation Heatmap\n",
    "plt.figure(figsize=(10, 6))\n",
    "sns.heatmap(customer_churn.corr(), annot=True, cmap=\"coolwarm\")\n",
    "plt.title(\"Feature Correlation Heatmap\")\n",
    "plt.show()"
   ]
  }
 ],
 "metadata": {
  "kernelspec": {
   "display_name": "Python [conda env:base] *",
   "language": "python",
   "name": "conda-base-py"
  },
  "language_info": {
   "codemirror_mode": {
    "name": "ipython",
    "version": 3
   },
   "file_extension": ".py",
   "mimetype": "text/x-python",
   "name": "python",
   "nbconvert_exporter": "python",
   "pygments_lexer": "ipython3",
   "version": "3.12.7"
  }
 },
 "nbformat": 4,
 "nbformat_minor": 5
}
