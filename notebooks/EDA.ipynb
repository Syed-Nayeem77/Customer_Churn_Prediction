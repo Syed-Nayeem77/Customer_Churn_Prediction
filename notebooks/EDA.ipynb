# Basic EDA Template
import pandas as pd
import matplotlib.pyplot as plt

df = pd.read_csv('../data/raw/churn_data.csv')
print(df.info())
df.hist(figsize=(12, 10))
plt.show()
